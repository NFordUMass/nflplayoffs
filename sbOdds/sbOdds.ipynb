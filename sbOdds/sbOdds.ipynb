{
 "cells": [
  {
   "cell_type": "code",
   "execution_count": 95,
   "id": "bd715284",
   "metadata": {},
   "outputs": [],
   "source": [
    "import os\n",
    "from bs4 import BeautifulSoup\n",
    "from playwright.async_api import async_playwright, TimeoutError as PlaywrightTimeout\n",
    "import time\n",
    "import re\n",
    "import pandas as pd\n",
    "import numpy as np\n",
    "from datetime import datetime"
   ]
  },
  {
   "cell_type": "code",
   "execution_count": 96,
   "id": "0cb65021",
   "metadata": {},
   "outputs": [],
   "source": [
    "# !pip playwright install-deps firefox"
   ]
  },
  {
   "cell_type": "code",
   "execution_count": 135,
   "id": "eb6c7e3a",
   "metadata": {},
   "outputs": [
    {
     "name": "stdout",
     "output_type": "stream",
     "text": [
      "[(4, 1966), (4, 1967), (4, 1968), (4, 1969), (8, 1970), (8, 1971), (8, 1972), (8, 1973), (8, 1974), (8, 1975), (8, 1976), (8, 1977), (10, 1978), (10, 1979), (10, 1980), (10, 1981), (10, 1982), (10, 1983), (10, 1984), (10, 1985), (10, 1986), (10, 1987), (10, 1988), (10, 1989), (12, 1990), (12, 1991), (12, 1992), (12, 1993), (12, 1994), (12, 1995), (12, 1996), (12, 1997), (12, 1998), (12, 1999), (12, 2000), (12, 2001), (12, 2002), (12, 2003), (12, 2004), (12, 2005), (12, 2006), (12, 2007), (12, 2008), (12, 2009), (12, 2010), (12, 2011), (12, 2012), (12, 2013), (12, 2014), (12, 2015), (12, 2016), (12, 2017), (12, 2018), (12, 2019), (14, 2020), (14, 2021), (14, 2022), (14, 2023)]\n"
     ]
    }
   ],
   "source": [
    "DATA_DIR = \"../sbpgs\";\n",
    "YR_DIR = \"../leagueYrs\";\n",
    "PLAYOFF_SIZES = [4] * 4 + [8] * 8 + [10] * 12 + [12] * 30 + [14] * 5;\n",
    "year_sizes = list(zip(PLAYOFF_SIZES,list(range(1966,2024))))\n",
    "print(year_sizes)"
   ]
  },
  {
   "cell_type": "code",
   "execution_count": 98,
   "id": "76ac0268",
   "metadata": {},
   "outputs": [],
   "source": [
    "def playoff_size(year):\n",
    "    return PLAYOFF_SIZES[year - 1966]"
   ]
  },
  {
   "cell_type": "code",
   "execution_count": 99,
   "id": "e315162b",
   "metadata": {},
   "outputs": [],
   "source": [
    "# DataQuest function\n",
    "# add sleep to asking again\n",
    "# selector defines the section of html you're looking at\n",
    "async def get_html(url,selector,sleep =5, retries =3):\n",
    "    html = None\n",
    "    for i in range(1, retries+1):\n",
    "        time.sleep(sleep *i)\n",
    "        \n",
    "        try:\n",
    "            async with async_playwright() as p:\n",
    "#                 chromium is open sourced version of chrome\n",
    "                browser = await p.firefox.launch()\n",
    "                page = await browser.new_page()\n",
    "                await page.goto(url)\n",
    "                print(await page.title())\n",
    "                html = await page.inner_html(selector)\n",
    "        except PlaywrightTimeout:\n",
    "            print(f\"Timeout error on {url}\")\n",
    "            continue\n",
    "        else:\n",
    "            break\n",
    "    return html"
   ]
  },
  {
   "cell_type": "code",
   "execution_count": 100,
   "id": "05d25bc5",
   "metadata": {},
   "outputs": [],
   "source": [
    "# sus function, don't touch right now\n",
    "async def savePath(link,directory,name,tag):\n",
    "    save_path = os.path.join(directory, name(link))\n",
    "    if not(os.path.exists(save_path)):\n",
    "        html = await get_html(link, tag);\n",
    "        with open(save_path, \"w+\") as f:\n",
    "            f.write(html)\n",
    "    else :\n",
    "        with open(save_path, 'r') as f:\n",
    "            html = f.read()\n",
    "    return html"
   ]
  },
  {
   "cell_type": "code",
   "execution_count": 101,
   "id": "6381f43e",
   "metadata": {},
   "outputs": [],
   "source": [
    "def getResult(index):\n",
    "    if index < 0 :\n",
    "        return 0\n",
    "    elif index == 0 :\n",
    "      return 5\n",
    "    elif index <= 1:\n",
    "      return 4\n",
    "    elif index <= 3:\n",
    "      return 3\n",
    "    elif index <= 7:\n",
    "      return 2\n",
    "    else :\n",
    "      return 1"
   ]
  },
  {
   "cell_type": "code",
   "execution_count": 102,
   "id": "ecdefc17",
   "metadata": {},
   "outputs": [],
   "source": [
    "def getResult2(index,length):\n",
    "    if index < 0 :\n",
    "        return 0\n",
    "    elif index == length-1 :\n",
    "      return 5\n",
    "    elif index == length-2 :\n",
    "      return 4\n",
    "    elif index >= length-4 :\n",
    "      return 3\n",
    "    elif index >= length-8 :\n",
    "      return 2\n",
    "    else :\n",
    "      return 1"
   ]
  },
  {
   "cell_type": "code",
   "execution_count": 103,
   "id": "77678430",
   "metadata": {},
   "outputs": [],
   "source": [
    "def getYearURL(year):\n",
    "    base = f\"https://www.pro-football-reference.com\";\n",
    "    url = f\"{base}/years/{year}/index.htm\"\n",
    "    return url"
   ]
  },
  {
   "cell_type": "code",
   "execution_count": 104,
   "id": "8ca3af80",
   "metadata": {},
   "outputs": [],
   "source": [
    "async def getPlayoffTeamsArr(url):\n",
    "    base = f\"https://www.pro-football-reference.com\";\n",
    "    a_tags = (await findLosers(url)) + (await findWinner(url));\n",
    "    hrefs = [a[\"href\"]  for a in a_tags];\n",
    "    teams = [l for l in hrefs if \"/teams/\" in l];\n",
    "    finalTeams = [base + t for t in teams]\n",
    "    return finalTeams;"
   ]
  },
  {
   "cell_type": "code",
   "execution_count": 105,
   "id": "a8b2782c",
   "metadata": {},
   "outputs": [],
   "source": [
    "async def findWinner(url):\n",
    "    html = BeautifulSoup(await savePath(url, YR_DIR, nameYear,\"#div_playoff_results\"))\n",
    "    winner = html.find_all(\"td\",{'data-stat': 'winner'})[-1]\n",
    "    a_tag = [div.find_all(\"a\") for div in winner]\n",
    "    return sum(a_tag,[])"
   ]
  },
  {
   "cell_type": "code",
   "execution_count": 106,
   "id": "33528970",
   "metadata": {},
   "outputs": [],
   "source": [
    "async def findLosers(url):\n",
    "    html = BeautifulSoup(await savePath(url, YR_DIR, nameYear,\"#div_playoff_results\"))\n",
    "    losers = html.find_all(\"td\",{'data-stat': 'loser'})\n",
    "    html.find_all(\"td\",{'data-stat': 'winner'})[-1]\n",
    "    a_tags = [div.find_all(\"a\") for div in losers]\n",
    "    return sum(a_tags,[])"
   ]
  },
  {
   "cell_type": "code",
   "execution_count": 107,
   "id": "c06be63b",
   "metadata": {},
   "outputs": [],
   "source": [
    "async def findResult(teamURL,year):\n",
    "    yearURL = getYearURL(year)\n",
    "    size = playoff_size(year)\n",
    "    if year > 2022 or year < 1970 :\n",
    "        return \"undefined\"\n",
    "    arr = await getPlayoffTeamsArr(yearURL)\n",
    "    index = arr.index(teamURL) if teamURL in arr else -1\n",
    "    return getResult2(index,size)"
   ]
  },
  {
   "cell_type": "code",
   "execution_count": 108,
   "id": "b6474691",
   "metadata": {},
   "outputs": [],
   "source": [
    "def getYear(url):\n",
    "    yr = int(url[url.find(\".htm\")-4:url.find(\".htm\")]);\n",
    "    return yr;"
   ]
  },
  {
   "cell_type": "code",
   "execution_count": 148,
   "id": "6264a638",
   "metadata": {},
   "outputs": [],
   "source": [
    "def twoDigitYear(year):\n",
    "    return str(year)[-2:]"
   ]
  },
  {
   "cell_type": "code",
   "execution_count": 109,
   "id": "5cf36113",
   "metadata": {},
   "outputs": [],
   "source": [
    "def getAbbrv(url):\n",
    "    abbrv = url[url.index(\"teams/\")+6:url.index(\".htm\")-5];\n",
    "    return abbrv;"
   ]
  },
  {
   "cell_type": "code",
   "execution_count": 110,
   "id": "1364d7b3",
   "metadata": {},
   "outputs": [],
   "source": [
    "def nameYear(link):\n",
    "    i = link.find(\"years\")+6;\n",
    "    return link[i:i+4] + \"league.htm\";"
   ]
  },
  {
   "cell_type": "code",
   "execution_count": 111,
   "id": "a2dddbc9",
   "metadata": {},
   "outputs": [],
   "source": [
    "def nameTeam(link):\n",
    "    return getAbbrv(link)+str(getYear(link))+\".htm\";"
   ]
  },
  {
   "cell_type": "code",
   "execution_count": 112,
   "id": "f931b806",
   "metadata": {},
   "outputs": [],
   "source": [
    "def getWins(string):\n",
    "    w = int(string[:string.find(\"-\")])\n",
    "    return w;"
   ]
  },
  {
   "cell_type": "code",
   "execution_count": 113,
   "id": "90700912",
   "metadata": {},
   "outputs": [],
   "source": [
    "def getGames(string):\n",
    "    w = getWins(string)\n",
    "    rest = string[string.find(\"-\") + 1:]\n",
    "    l = getWins(rest)\n",
    "    t = int(rest[rest.find(\"-\") + 1:])\n",
    "    return w + l + t"
   ]
  },
  {
   "cell_type": "code",
   "execution_count": 114,
   "id": "40dbd089",
   "metadata": {},
   "outputs": [],
   "source": [
    "# sus url manipulation to get the next year\n",
    "def getNext(url,diff):\n",
    "    base = url[:url.find(\".htm\")-5]\n",
    "    yr = getYear(url)+diff;\n",
    "    if((yr > 2023) or (yr < 1950)):\n",
    "        return \"\";\n",
    "    return f\"{base}/{yr}.htm\";"
   ]
  },
  {
   "cell_type": "code",
   "execution_count": 115,
   "id": "3be35313",
   "metadata": {},
   "outputs": [],
   "source": [
    "def searchHTML(string,html,div):\n",
    "    arr = html.find_all(div)\n",
    "    for i,p in enumerate(arr):\n",
    "        if str(p).find(string)>0 :\n",
    "            return i\n",
    "    return -1"
   ]
  },
  {
   "cell_type": "code",
   "execution_count": 116,
   "id": "d6b0ca4c",
   "metadata": {},
   "outputs": [],
   "source": [
    "async def searchMeta(url,div,string):\n",
    "    html = BeautifulSoup(await savePath(url,DATA_DIR,nameTeam,\"#meta\"))\n",
    "    index = searchHTML(string,html,div)\n",
    "    if index < 0 :\n",
    "        return \"undefined\"\n",
    "    return html.find_all(div)[index].getText();"
   ]
  },
  {
   "cell_type": "code",
   "execution_count": 117,
   "id": "12cd0d67",
   "metadata": {},
   "outputs": [],
   "source": [
    "#get record from html\n",
    "async def getRec(link):\n",
    "    ret = await searchMeta(link,\"p\",\"Record\")\n",
    "    ret = ret[ret.find(\":\")+2:ret.find(\",\")]\n",
    "    return ret"
   ]
  },
  {
   "cell_type": "code",
   "execution_count": 118,
   "id": "4099acac",
   "metadata": {},
   "outputs": [],
   "source": [
    "async def getFullName(url):\n",
    "    html = BeautifulSoup(await savePath(url,DATA_DIR,nameTeam,\"#meta\"))\n",
    "    ret = html.find_all(\"span\")[1].getText()\n",
    "    return ret"
   ]
  },
  {
   "cell_type": "code",
   "execution_count": 143,
   "id": "0d2bce7b",
   "metadata": {},
   "outputs": [],
   "source": [
    "def getNickname(year, name):\n",
    "    return \"'\" + twoDigitYear(year) + \" \" + name.split()[-1]"
   ]
  },
  {
   "cell_type": "code",
   "execution_count": 119,
   "id": "1b56f1ac",
   "metadata": {},
   "outputs": [],
   "source": [
    "async def getDivision(url):\n",
    "    ret = await searchMeta(url,\"p\",\"Record\")\n",
    "    if ret == \"undefined\" :\n",
    "        return ret;\n",
    "    return ret[ret.find(\"\\t\")+1:ret.find(\"Div\")-1]"
   ]
  },
  {
   "cell_type": "code",
   "execution_count": 120,
   "id": "0416b29b",
   "metadata": {},
   "outputs": [],
   "source": [
    "async def getConf(url):\n",
    "    ret = await getDivision(url)\n",
    "    if ret == \"undefined\" :\n",
    "        return ret;\n",
    "    return ret[0:3]"
   ]
  },
  {
   "cell_type": "code",
   "execution_count": 121,
   "id": "c502c22f",
   "metadata": {},
   "outputs": [],
   "source": [
    "async def getCoach(url):\n",
    "    ret = await searchMeta(url,\"p\",\"Coach\")\n",
    "    if ret == \"undefined\" :\n",
    "        return ret;\n",
    "    return ret[ret.find(\"\\n\")+1:ret.find(\"(\")-1]"
   ]
  },
  {
   "cell_type": "code",
   "execution_count": 182,
   "id": "4a1dc178",
   "metadata": {},
   "outputs": [],
   "source": [
    "# can be buggy for older seasons\n",
    "async def getSBOdds(url):\n",
    "    ret = await searchMeta(url,\"p\",\"Preseason Odds\")\n",
    "    if ret == \"undefined\" :\n",
    "        return ret;\n",
    "    endI = len(ret);\n",
    "    if(ret.find(\";\") > 0):\n",
    "        endI = ret.find(\";\");\n",
    "    return ret[ret.find(\"Bowl\")+5:endI]"
   ]
  },
  {
   "cell_type": "code",
   "execution_count": 123,
   "id": "f0f58d62",
   "metadata": {},
   "outputs": [
    {
     "data": {
      "text/plain": [
       "'+350'"
      ]
     },
     "execution_count": 123,
     "metadata": {},
     "output_type": "execute_result"
    }
   ],
   "source": [
    "await getSBOdds(\"https://www.pro-football-reference.com/teams/rai/1980.htm\")"
   ]
  },
  {
   "cell_type": "code",
   "execution_count": 124,
   "id": "f90657d6",
   "metadata": {},
   "outputs": [],
   "source": [
    "# can be buggy for older seasons\n",
    "async def getOverUnder(url):\n",
    "    ret = await searchMeta(url,\"p\",\"O/U:\")\n",
    "    if ret == \"undefined\" :\n",
    "        return ret;\n",
    "    return float(ret[ret.find(\"O/U:\")+5:])"
   ]
  },
  {
   "cell_type": "code",
   "execution_count": 125,
   "id": "93f8e8e9",
   "metadata": {},
   "outputs": [
    {
     "data": {
      "text/plain": [
       "'undefined'"
      ]
     },
     "execution_count": 125,
     "metadata": {},
     "output_type": "execute_result"
    }
   ],
   "source": [
    "await searchMeta(\"https://www.pro-football-reference.com/teams/clt/1970.htm\",\"p\",\"Odds\")"
   ]
  },
  {
   "cell_type": "code",
   "execution_count": 126,
   "id": "01168b71",
   "metadata": {},
   "outputs": [
    {
     "data": {
      "text/plain": [
       "12.5"
      ]
     },
     "execution_count": 126,
     "metadata": {},
     "output_type": "execute_result"
    }
   ],
   "source": [
    "await getOverUnder(\"https://www.pro-football-reference.com/teams/kan/2021.htm\")"
   ]
  },
  {
   "cell_type": "code",
   "execution_count": 127,
   "id": "4cfd1801",
   "metadata": {},
   "outputs": [],
   "source": [
    "async def getPFRank(url):\n",
    "    ret = await searchMeta(url,\"p\",\"Points For\")\n",
    "    if ret == \"undefined\" :\n",
    "        return ret;\n",
    "    return ret[ret.find(\")\")+2:ret.find(\"of\")-3]"
   ]
  },
  {
   "cell_type": "code",
   "execution_count": 128,
   "id": "80e32c35",
   "metadata": {},
   "outputs": [],
   "source": [
    "async def getPARank(url):\n",
    "    ret = await searchMeta(url,\"p\",\"Points Against\")\n",
    "    if ret == \"undefined\" :\n",
    "        return ret;\n",
    "    return ret[ret.find(\")\")+2:ret.find(\"of\")-3]"
   ]
  },
  {
   "cell_type": "code",
   "execution_count": 129,
   "id": "3dfcaa33",
   "metadata": {},
   "outputs": [],
   "source": [
    "async def getExpRec(url):\n",
    "    ret = await searchMeta(url,\"p\",\"Expected W-L\")\n",
    "    if ret == \"undefined\" :\n",
    "        return ret;\n",
    "    return ret[ret.find(\":\")+2:]"
   ]
  },
  {
   "cell_type": "code",
   "execution_count": 130,
   "id": "33694dfd",
   "metadata": {},
   "outputs": [],
   "source": [
    "async def getSRS(url):\n",
    "    ret = await searchMeta(url,\"p\",\"#srs\")\n",
    "    if ret == \"undefined\" :\n",
    "        return ret;\n",
    "    return ret[ret.find(\":\")+2:ret.find(\"(\")-1]"
   ]
  },
  {
   "cell_type": "code",
   "execution_count": 131,
   "id": "27ac9425",
   "metadata": {},
   "outputs": [],
   "source": [
    "async def getSOS(url):\n",
    "    ret = await searchMeta(url,\"p\",\"#sos\")\n",
    "    if ret == \"undefined\" :\n",
    "        return ret;\n",
    "    return ret[ret.find(\"SOS: \")+5:-1]"
   ]
  },
  {
   "cell_type": "code",
   "execution_count": 132,
   "id": "a61fcd1d",
   "metadata": {},
   "outputs": [],
   "source": [
    "async def scrape_season(season):\n",
    "    url = getYearURL(season)\n",
    "    finalTeams = await getPlayoffTeamsArr(url)\n",
    "    return finalTeams"
   ]
  },
  {
   "cell_type": "code",
   "execution_count": 133,
   "id": "f97d179c",
   "metadata": {},
   "outputs": [],
   "source": [
    "# season = 2022;\n",
    "# html = await scrape_season(season);\n",
    "# html;"
   ]
  },
  {
   "cell_type": "code",
   "execution_count": 187,
   "id": "6df97c8c",
   "metadata": {},
   "outputs": [],
   "source": [
    "SEASONS = list(range(1989,2022));\n",
    "SEASONS = [await scrape_season(yr) for yr in SEASONS]"
   ]
  },
  {
   "cell_type": "code",
   "execution_count": 188,
   "id": "9ec653ca",
   "metadata": {},
   "outputs": [],
   "source": [
    "winners = [arr[-1] for arr in SEASONS]"
   ]
  },
  {
   "cell_type": "code",
   "execution_count": 199,
   "id": "b6d77a1e",
   "metadata": {},
   "outputs": [
    {
     "data": {
      "text/plain": [
       "'+300'"
      ]
     },
     "execution_count": 199,
     "metadata": {},
     "output_type": "execute_result"
    }
   ],
   "source": [
    "(await getSBOdds(getNext(\"https://www.pro-football-reference.com/teams/ram/1999.htm\",1)))"
   ]
  },
  {
   "cell_type": "code",
   "execution_count": 200,
   "id": "515d967c",
   "metadata": {},
   "outputs": [],
   "source": [
    "simple = [];\n",
    "for winner in winners:\n",
    "    full = await getFullName(winner)\n",
    "    year = getYear(winner)\n",
    "    odds = await getSBOdds(getNext(winner,1))\n",
    "    wins = await getOverUnder(getNext(winner,1))\n",
    "    simple.append([year,\n",
    "                    getNickname(year,full),\n",
    "                    getWins(await getRec(getNext(winner,1))),\n",
    "                    await findResult(getNext(winner,1),year +1),\n",
    "                     odds,\n",
    "                     int(odds[1:]),\n",
    "                     wins])"
   ]
  },
  {
   "cell_type": "code",
   "execution_count": 201,
   "id": "f21e1560",
   "metadata": {},
   "outputs": [
    {
     "data": {
      "text/plain": [
       "[[1989, \"'89 49ers\", 14, 3, '+350', 350, 11.5],\n",
       " [1990, \"'90 Giants\", 8, 0, '+400', 400, 11.0],\n",
       " [1991, \"'91 Redskins\", 9, 2, '+600', 600, 11.5],\n",
       " [1992, \"'92 Cowboys\", 12, 5, '+350', 350, 11.5],\n",
       " [1993, \"'93 Cowboys\", 12, 3, '+300', 300, 11.0],\n",
       " [1994, \"'94 49ers\", 11, 2, '+200', 200, 12.5],\n",
       " [1995, \"'95 Cowboys\", 10, 2, '+600', 600, 10.5],\n",
       " [1996, \"'96 Packers\", 13, 4, '+250', 250, 12.0],\n",
       " [1997, \"'97 Broncos\", 14, 5, '+600', 600, 11.0],\n",
       " [1998, \"'98 Broncos\", 6, 0, '+500', 500, 10.5],\n",
       " [1999, \"'99 Rams\", 10, 1, '+300', 300, 11.0],\n",
       " [2000, \"'00 Ravens\", 10, 2, '+800', 800, 11.0],\n",
       " [2001, \"'01 Patriots\", 9, 0, '+2000', 2000, 8.0],\n",
       " [2002, \"'02 Buccaneers\", 7, 0, '+800', 800, 10.5],\n",
       " [2003, \"'03 Patriots\", 14, 5, '+600', 600, 10.5],\n",
       " [2004, \"'04 Patriots\", 10, 2, '+500', 500, 11.0],\n",
       " [2005, \"'05 Steelers\", 8, 0, '+1200', 1200, 10.5],\n",
       " [2006, \"'06 Colts\", 13, 2, '+800', 800, 10.5],\n",
       " [2007, \"'07 Giants\", 12, 2, '+2000', 2000, 8.5],\n",
       " [2008, \"'08 Steelers\", 9, 0, '+1000', 1000, 10.5],\n",
       " [2009, \"'09 Saints\", 11, 1, '+1000', 1000, 10.5],\n",
       " [2010, \"'10 Packers\", 15, 2, '+650', 650, 11.5],\n",
       " [2011, \"'11 Giants\", 9, 0, '+1800', 1800, 9.0],\n",
       " [2012, \"'12 Ravens\", 8, 0, '+2500', 2500, 8.5],\n",
       " [2013, \"'13 Seahawks\", 12, 4, '+450', 450, 11.0],\n",
       " [2014, \"'14 Patriots\", 12, 3, '+800', 800, 10.5],\n",
       " [2015, \"'15 Broncos\", 9, 0, '+2500', 2500, 9.5],\n",
       " [2016, \"'16 Patriots\", 13, 4, '+275', 275, 12.5],\n",
       " [2017, \"'17 Eagles\", 9, 2, '+1400', 1400, 10.5],\n",
       " [2018, \"'18 Patriots\", 12, 1, '+400', 400, 11.5],\n",
       " [2019, \"'19 Chiefs\", 14, 4, '+450', 450, 11.5],\n",
       " [2020, \"'20 Buccaneers\", 13, 2, '+700', 700, 12.0],\n",
       " [2021, \"'21 Rams\", 5, 0, '+1120', 1120, 10.5]]"
      ]
     },
     "execution_count": 201,
     "metadata": {},
     "output_type": "execute_result"
    }
   ],
   "source": [
    "simple"
   ]
  },
  {
   "cell_type": "code",
   "execution_count": 202,
   "id": "87697ca6",
   "metadata": {},
   "outputs": [
    {
     "data": {
      "text/html": [
       "<div>\n",
       "<style scoped>\n",
       "    .dataframe tbody tr th:only-of-type {\n",
       "        vertical-align: middle;\n",
       "    }\n",
       "\n",
       "    .dataframe tbody tr th {\n",
       "        vertical-align: top;\n",
       "    }\n",
       "\n",
       "    .dataframe thead th {\n",
       "        text-align: right;\n",
       "    }\n",
       "</style>\n",
       "<table border=\"1\" class=\"dataframe\">\n",
       "  <thead>\n",
       "    <tr style=\"text-align: right;\">\n",
       "      <th></th>\n",
       "      <th>Year</th>\n",
       "      <th>Team</th>\n",
       "      <th>N_Wins</th>\n",
       "      <th>N_Round</th>\n",
       "      <th>Odds_Str</th>\n",
       "      <th>Odds</th>\n",
       "      <th>Over-Under</th>\n",
       "    </tr>\n",
       "  </thead>\n",
       "  <tbody>\n",
       "    <tr>\n",
       "      <th>0</th>\n",
       "      <td>1989</td>\n",
       "      <td>'89 49ers</td>\n",
       "      <td>14</td>\n",
       "      <td>3</td>\n",
       "      <td>+350</td>\n",
       "      <td>350</td>\n",
       "      <td>11.5</td>\n",
       "    </tr>\n",
       "    <tr>\n",
       "      <th>1</th>\n",
       "      <td>1990</td>\n",
       "      <td>'90 Giants</td>\n",
       "      <td>8</td>\n",
       "      <td>0</td>\n",
       "      <td>+400</td>\n",
       "      <td>400</td>\n",
       "      <td>11.0</td>\n",
       "    </tr>\n",
       "    <tr>\n",
       "      <th>2</th>\n",
       "      <td>1991</td>\n",
       "      <td>'91 Redskins</td>\n",
       "      <td>9</td>\n",
       "      <td>2</td>\n",
       "      <td>+600</td>\n",
       "      <td>600</td>\n",
       "      <td>11.5</td>\n",
       "    </tr>\n",
       "    <tr>\n",
       "      <th>3</th>\n",
       "      <td>1992</td>\n",
       "      <td>'92 Cowboys</td>\n",
       "      <td>12</td>\n",
       "      <td>5</td>\n",
       "      <td>+350</td>\n",
       "      <td>350</td>\n",
       "      <td>11.5</td>\n",
       "    </tr>\n",
       "    <tr>\n",
       "      <th>4</th>\n",
       "      <td>1993</td>\n",
       "      <td>'93 Cowboys</td>\n",
       "      <td>12</td>\n",
       "      <td>3</td>\n",
       "      <td>+300</td>\n",
       "      <td>300</td>\n",
       "      <td>11.0</td>\n",
       "    </tr>\n",
       "    <tr>\n",
       "      <th>5</th>\n",
       "      <td>1994</td>\n",
       "      <td>'94 49ers</td>\n",
       "      <td>11</td>\n",
       "      <td>2</td>\n",
       "      <td>+200</td>\n",
       "      <td>200</td>\n",
       "      <td>12.5</td>\n",
       "    </tr>\n",
       "    <tr>\n",
       "      <th>6</th>\n",
       "      <td>1995</td>\n",
       "      <td>'95 Cowboys</td>\n",
       "      <td>10</td>\n",
       "      <td>2</td>\n",
       "      <td>+600</td>\n",
       "      <td>600</td>\n",
       "      <td>10.5</td>\n",
       "    </tr>\n",
       "    <tr>\n",
       "      <th>7</th>\n",
       "      <td>1996</td>\n",
       "      <td>'96 Packers</td>\n",
       "      <td>13</td>\n",
       "      <td>4</td>\n",
       "      <td>+250</td>\n",
       "      <td>250</td>\n",
       "      <td>12.0</td>\n",
       "    </tr>\n",
       "    <tr>\n",
       "      <th>8</th>\n",
       "      <td>1997</td>\n",
       "      <td>'97 Broncos</td>\n",
       "      <td>14</td>\n",
       "      <td>5</td>\n",
       "      <td>+600</td>\n",
       "      <td>600</td>\n",
       "      <td>11.0</td>\n",
       "    </tr>\n",
       "    <tr>\n",
       "      <th>9</th>\n",
       "      <td>1998</td>\n",
       "      <td>'98 Broncos</td>\n",
       "      <td>6</td>\n",
       "      <td>0</td>\n",
       "      <td>+500</td>\n",
       "      <td>500</td>\n",
       "      <td>10.5</td>\n",
       "    </tr>\n",
       "    <tr>\n",
       "      <th>10</th>\n",
       "      <td>1999</td>\n",
       "      <td>'99 Rams</td>\n",
       "      <td>10</td>\n",
       "      <td>1</td>\n",
       "      <td>+300</td>\n",
       "      <td>300</td>\n",
       "      <td>11.0</td>\n",
       "    </tr>\n",
       "    <tr>\n",
       "      <th>11</th>\n",
       "      <td>2000</td>\n",
       "      <td>'00 Ravens</td>\n",
       "      <td>10</td>\n",
       "      <td>2</td>\n",
       "      <td>+800</td>\n",
       "      <td>800</td>\n",
       "      <td>11.0</td>\n",
       "    </tr>\n",
       "    <tr>\n",
       "      <th>12</th>\n",
       "      <td>2001</td>\n",
       "      <td>'01 Patriots</td>\n",
       "      <td>9</td>\n",
       "      <td>0</td>\n",
       "      <td>+2000</td>\n",
       "      <td>2000</td>\n",
       "      <td>8.0</td>\n",
       "    </tr>\n",
       "    <tr>\n",
       "      <th>13</th>\n",
       "      <td>2002</td>\n",
       "      <td>'02 Buccaneers</td>\n",
       "      <td>7</td>\n",
       "      <td>0</td>\n",
       "      <td>+800</td>\n",
       "      <td>800</td>\n",
       "      <td>10.5</td>\n",
       "    </tr>\n",
       "    <tr>\n",
       "      <th>14</th>\n",
       "      <td>2003</td>\n",
       "      <td>'03 Patriots</td>\n",
       "      <td>14</td>\n",
       "      <td>5</td>\n",
       "      <td>+600</td>\n",
       "      <td>600</td>\n",
       "      <td>10.5</td>\n",
       "    </tr>\n",
       "    <tr>\n",
       "      <th>15</th>\n",
       "      <td>2004</td>\n",
       "      <td>'04 Patriots</td>\n",
       "      <td>10</td>\n",
       "      <td>2</td>\n",
       "      <td>+500</td>\n",
       "      <td>500</td>\n",
       "      <td>11.0</td>\n",
       "    </tr>\n",
       "    <tr>\n",
       "      <th>16</th>\n",
       "      <td>2005</td>\n",
       "      <td>'05 Steelers</td>\n",
       "      <td>8</td>\n",
       "      <td>0</td>\n",
       "      <td>+1200</td>\n",
       "      <td>1200</td>\n",
       "      <td>10.5</td>\n",
       "    </tr>\n",
       "    <tr>\n",
       "      <th>17</th>\n",
       "      <td>2006</td>\n",
       "      <td>'06 Colts</td>\n",
       "      <td>13</td>\n",
       "      <td>2</td>\n",
       "      <td>+800</td>\n",
       "      <td>800</td>\n",
       "      <td>10.5</td>\n",
       "    </tr>\n",
       "    <tr>\n",
       "      <th>18</th>\n",
       "      <td>2007</td>\n",
       "      <td>'07 Giants</td>\n",
       "      <td>12</td>\n",
       "      <td>2</td>\n",
       "      <td>+2000</td>\n",
       "      <td>2000</td>\n",
       "      <td>8.5</td>\n",
       "    </tr>\n",
       "    <tr>\n",
       "      <th>19</th>\n",
       "      <td>2008</td>\n",
       "      <td>'08 Steelers</td>\n",
       "      <td>9</td>\n",
       "      <td>0</td>\n",
       "      <td>+1000</td>\n",
       "      <td>1000</td>\n",
       "      <td>10.5</td>\n",
       "    </tr>\n",
       "    <tr>\n",
       "      <th>20</th>\n",
       "      <td>2009</td>\n",
       "      <td>'09 Saints</td>\n",
       "      <td>11</td>\n",
       "      <td>1</td>\n",
       "      <td>+1000</td>\n",
       "      <td>1000</td>\n",
       "      <td>10.5</td>\n",
       "    </tr>\n",
       "    <tr>\n",
       "      <th>21</th>\n",
       "      <td>2010</td>\n",
       "      <td>'10 Packers</td>\n",
       "      <td>15</td>\n",
       "      <td>2</td>\n",
       "      <td>+650</td>\n",
       "      <td>650</td>\n",
       "      <td>11.5</td>\n",
       "    </tr>\n",
       "    <tr>\n",
       "      <th>22</th>\n",
       "      <td>2011</td>\n",
       "      <td>'11 Giants</td>\n",
       "      <td>9</td>\n",
       "      <td>0</td>\n",
       "      <td>+1800</td>\n",
       "      <td>1800</td>\n",
       "      <td>9.0</td>\n",
       "    </tr>\n",
       "    <tr>\n",
       "      <th>23</th>\n",
       "      <td>2012</td>\n",
       "      <td>'12 Ravens</td>\n",
       "      <td>8</td>\n",
       "      <td>0</td>\n",
       "      <td>+2500</td>\n",
       "      <td>2500</td>\n",
       "      <td>8.5</td>\n",
       "    </tr>\n",
       "    <tr>\n",
       "      <th>24</th>\n",
       "      <td>2013</td>\n",
       "      <td>'13 Seahawks</td>\n",
       "      <td>12</td>\n",
       "      <td>4</td>\n",
       "      <td>+450</td>\n",
       "      <td>450</td>\n",
       "      <td>11.0</td>\n",
       "    </tr>\n",
       "    <tr>\n",
       "      <th>25</th>\n",
       "      <td>2014</td>\n",
       "      <td>'14 Patriots</td>\n",
       "      <td>12</td>\n",
       "      <td>3</td>\n",
       "      <td>+800</td>\n",
       "      <td>800</td>\n",
       "      <td>10.5</td>\n",
       "    </tr>\n",
       "    <tr>\n",
       "      <th>26</th>\n",
       "      <td>2015</td>\n",
       "      <td>'15 Broncos</td>\n",
       "      <td>9</td>\n",
       "      <td>0</td>\n",
       "      <td>+2500</td>\n",
       "      <td>2500</td>\n",
       "      <td>9.5</td>\n",
       "    </tr>\n",
       "    <tr>\n",
       "      <th>27</th>\n",
       "      <td>2016</td>\n",
       "      <td>'16 Patriots</td>\n",
       "      <td>13</td>\n",
       "      <td>4</td>\n",
       "      <td>+275</td>\n",
       "      <td>275</td>\n",
       "      <td>12.5</td>\n",
       "    </tr>\n",
       "    <tr>\n",
       "      <th>28</th>\n",
       "      <td>2017</td>\n",
       "      <td>'17 Eagles</td>\n",
       "      <td>9</td>\n",
       "      <td>2</td>\n",
       "      <td>+1400</td>\n",
       "      <td>1400</td>\n",
       "      <td>10.5</td>\n",
       "    </tr>\n",
       "    <tr>\n",
       "      <th>29</th>\n",
       "      <td>2018</td>\n",
       "      <td>'18 Patriots</td>\n",
       "      <td>12</td>\n",
       "      <td>1</td>\n",
       "      <td>+400</td>\n",
       "      <td>400</td>\n",
       "      <td>11.5</td>\n",
       "    </tr>\n",
       "    <tr>\n",
       "      <th>30</th>\n",
       "      <td>2019</td>\n",
       "      <td>'19 Chiefs</td>\n",
       "      <td>14</td>\n",
       "      <td>4</td>\n",
       "      <td>+450</td>\n",
       "      <td>450</td>\n",
       "      <td>11.5</td>\n",
       "    </tr>\n",
       "    <tr>\n",
       "      <th>31</th>\n",
       "      <td>2020</td>\n",
       "      <td>'20 Buccaneers</td>\n",
       "      <td>13</td>\n",
       "      <td>2</td>\n",
       "      <td>+700</td>\n",
       "      <td>700</td>\n",
       "      <td>12.0</td>\n",
       "    </tr>\n",
       "    <tr>\n",
       "      <th>32</th>\n",
       "      <td>2021</td>\n",
       "      <td>'21 Rams</td>\n",
       "      <td>5</td>\n",
       "      <td>0</td>\n",
       "      <td>+1120</td>\n",
       "      <td>1120</td>\n",
       "      <td>10.5</td>\n",
       "    </tr>\n",
       "  </tbody>\n",
       "</table>\n",
       "</div>"
      ],
      "text/plain": [
       "    Year            Team  N_Wins  N_Round Odds_Str  Odds  Over-Under\n",
       "0   1989       '89 49ers      14        3     +350   350        11.5\n",
       "1   1990      '90 Giants       8        0     +400   400        11.0\n",
       "2   1991    '91 Redskins       9        2     +600   600        11.5\n",
       "3   1992     '92 Cowboys      12        5     +350   350        11.5\n",
       "4   1993     '93 Cowboys      12        3     +300   300        11.0\n",
       "5   1994       '94 49ers      11        2     +200   200        12.5\n",
       "6   1995     '95 Cowboys      10        2     +600   600        10.5\n",
       "7   1996     '96 Packers      13        4     +250   250        12.0\n",
       "8   1997     '97 Broncos      14        5     +600   600        11.0\n",
       "9   1998     '98 Broncos       6        0     +500   500        10.5\n",
       "10  1999        '99 Rams      10        1     +300   300        11.0\n",
       "11  2000      '00 Ravens      10        2     +800   800        11.0\n",
       "12  2001    '01 Patriots       9        0    +2000  2000         8.0\n",
       "13  2002  '02 Buccaneers       7        0     +800   800        10.5\n",
       "14  2003    '03 Patriots      14        5     +600   600        10.5\n",
       "15  2004    '04 Patriots      10        2     +500   500        11.0\n",
       "16  2005    '05 Steelers       8        0    +1200  1200        10.5\n",
       "17  2006       '06 Colts      13        2     +800   800        10.5\n",
       "18  2007      '07 Giants      12        2    +2000  2000         8.5\n",
       "19  2008    '08 Steelers       9        0    +1000  1000        10.5\n",
       "20  2009      '09 Saints      11        1    +1000  1000        10.5\n",
       "21  2010     '10 Packers      15        2     +650   650        11.5\n",
       "22  2011      '11 Giants       9        0    +1800  1800         9.0\n",
       "23  2012      '12 Ravens       8        0    +2500  2500         8.5\n",
       "24  2013    '13 Seahawks      12        4     +450   450        11.0\n",
       "25  2014    '14 Patriots      12        3     +800   800        10.5\n",
       "26  2015     '15 Broncos       9        0    +2500  2500         9.5\n",
       "27  2016    '16 Patriots      13        4     +275   275        12.5\n",
       "28  2017      '17 Eagles       9        2    +1400  1400        10.5\n",
       "29  2018    '18 Patriots      12        1     +400   400        11.5\n",
       "30  2019      '19 Chiefs      14        4     +450   450        11.5\n",
       "31  2020  '20 Buccaneers      13        2     +700   700        12.0\n",
       "32  2021        '21 Rams       5        0    +1120  1120        10.5"
      ]
     },
     "execution_count": 202,
     "metadata": {},
     "output_type": "execute_result"
    }
   ],
   "source": [
    "sf = pd.DataFrame(simple)\n",
    "sf.columns = [\"Year\", \"Team\",\"N_Wins\",\"N_Round\",\"Odds_Str\",\"Odds\",\"Over-Under\"]\n",
    "# sf.columns = [\"Year\", \"Team\",\"Prev_Round\",\"Round\",\"Next_Round\",\"Prev_Wins\",\"W\",\"Next_Wins\"]\n",
    "sf.to_csv('sbOdds.csv', index = False, header=True)\n",
    "sf"
   ]
  },
  {
   "cell_type": "code",
   "execution_count": 107,
   "id": "6a6bd486",
   "metadata": {},
   "outputs": [],
   "source": [
    "df = pd.DataFrame(allTeams)"
   ]
  },
  {
   "cell_type": "code",
   "execution_count": 49,
   "id": "8cc2e93a",
   "metadata": {},
   "outputs": [],
   "source": [
    "from pathlib import Path\n",
    "root_path = \"~/Desktop\"\n",
    "output_path = Path(root_path, 'output4.csv')\n",
    "# output_file_full_path = (\"/\",\"output\")\n",
    "testDF.to_csv(output_path, index = None)"
   ]
  }
 ],
 "metadata": {
  "kernelspec": {
   "display_name": "Python 3 (ipykernel)",
   "language": "python",
   "name": "python3"
  },
  "language_info": {
   "codemirror_mode": {
    "name": "ipython",
    "version": 3
   },
   "file_extension": ".py",
   "mimetype": "text/x-python",
   "name": "python",
   "nbconvert_exporter": "python",
   "pygments_lexer": "ipython3",
   "version": "3.10.9"
  }
 },
 "nbformat": 4,
 "nbformat_minor": 5
}
