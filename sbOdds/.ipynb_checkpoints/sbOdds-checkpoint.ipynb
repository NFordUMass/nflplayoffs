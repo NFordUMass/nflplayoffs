{
 "cells": [
  {
   "cell_type": "code",
   "execution_count": 15,
   "id": "bd715284",
   "metadata": {},
   "outputs": [],
   "source": [
    "import os\n",
    "from bs4 import BeautifulSoup\n",
    "from playwright.async_api import async_playwright, TimeoutError as PlaywrightTimeout\n",
    "import time\n",
    "import re\n",
    "import pandas as pd\n",
    "import numpy as np\n",
    "from datetime import datetime"
   ]
  },
  {
   "cell_type": "code",
   "execution_count": 16,
   "id": "0cb65021",
   "metadata": {},
   "outputs": [],
   "source": [
    "# !pip playwright install-deps firefox"
   ]
  },
  {
   "cell_type": "code",
   "execution_count": 17,
   "id": "eb6c7e3a",
   "metadata": {},
   "outputs": [
    {
     "name": "stdout",
     "output_type": "stream",
     "text": [
      "[(4, 1966), (4, 1967), (4, 1968), (4, 1969), (8, 1970), (8, 1971), (8, 1972), (8, 1973), (8, 1974), (8, 1975), (8, 1976), (8, 1977), (10, 1978), (10, 1979), (10, 1980), (10, 1981), (10, 1982), (10, 1983), (10, 1984), (10, 1985), (10, 1986), (10, 1987), (10, 1988), (10, 1989), (12, 1990), (12, 1991), (12, 1992), (12, 1993), (12, 1994), (12, 1995), (12, 1996), (12, 1997), (12, 1998), (12, 1999), (12, 2000), (12, 2001), (12, 2002), (12, 2003), (12, 2004), (12, 2005), (12, 2006), (12, 2007), (12, 2008), (12, 2009), (12, 2010), (12, 2011), (12, 2012), (12, 2013), (12, 2014), (12, 2015), (12, 2016), (12, 2017), (12, 2018), (12, 2019), (14, 2020), (14, 2021), (14, 2022), (14, 2023)]\n"
     ]
    }
   ],
   "source": [
    "DATA_DIR = \"sbpgs\";\n",
    "YR_DIR = \"leagueYrs\";\n",
    "PLAYOFF_SIZES = [4] * 4 + [8] * 8 + [10] * 12 + [12] * 30 + [14] * 5;\n",
    "year_sizes = list(zip(PLAYOFF_SIZES,list(range(1966,2024))))\n",
    "print(year_sizes)"
   ]
  },
  {
   "cell_type": "code",
   "execution_count": 18,
   "id": "76ac0268",
   "metadata": {},
   "outputs": [],
   "source": [
    "def playoff_size(year):\n",
    "    return PLAYOFF_SIZES[year - 1966]"
   ]
  },
  {
   "cell_type": "code",
   "execution_count": 19,
   "id": "e315162b",
   "metadata": {},
   "outputs": [],
   "source": [
    "# DataQuest function\n",
    "# add sleep to asking again\n",
    "# selector defines the section of html you're looking at\n",
    "async def get_html(url,selector,sleep =5, retries =3):\n",
    "    html = None\n",
    "    for i in range(1, retries+1):\n",
    "        time.sleep(sleep *i)\n",
    "        \n",
    "        try:\n",
    "            async with async_playwright() as p:\n",
    "#                 chromium is open sourced version of chrome\n",
    "                browser = await p.firefox.launch()\n",
    "                page = await browser.new_page()\n",
    "                await page.goto(url)\n",
    "                print(await page.title())\n",
    "                html = await page.inner_html(selector)\n",
    "        except PlaywrightTimeout:\n",
    "            print(f\"Timeout error on {url}\")\n",
    "            continue\n",
    "        else:\n",
    "            break\n",
    "    return html"
   ]
  },
  {
   "cell_type": "code",
   "execution_count": 20,
   "id": "05d25bc5",
   "metadata": {},
   "outputs": [],
   "source": [
    "# sus function, don't touch right now\n",
    "async def savePath(link,directory,name,tag):\n",
    "    save_path = os.path.join(directory, name(link))\n",
    "    if not(os.path.exists(save_path)):\n",
    "        html = await get_html(link, tag);\n",
    "        with open(save_path, \"w+\") as f:\n",
    "            f.write(html)\n",
    "    else :\n",
    "        with open(save_path, 'r') as f:\n",
    "            html = f.read()\n",
    "    return html"
   ]
  },
  {
   "cell_type": "code",
   "execution_count": 21,
   "id": "6381f43e",
   "metadata": {},
   "outputs": [],
   "source": [
    "def getResult(index):\n",
    "    if index < 0 :\n",
    "        return 0\n",
    "    elif index == 0 :\n",
    "      return 5\n",
    "    elif index <= 1:\n",
    "      return 4\n",
    "    elif index <= 3:\n",
    "      return 3\n",
    "    elif index <= 7:\n",
    "      return 2\n",
    "    else :\n",
    "      return 1"
   ]
  },
  {
   "cell_type": "code",
   "execution_count": 22,
   "id": "ecdefc17",
   "metadata": {},
   "outputs": [],
   "source": [
    "def getResult2(index,length):\n",
    "    if index < 0 :\n",
    "        return 0\n",
    "    elif index == length-1 :\n",
    "      return 5\n",
    "    elif index == length-2 :\n",
    "      return 4\n",
    "    elif index >= length-4 :\n",
    "      return 3\n",
    "    elif index >= length-8 :\n",
    "      return 2\n",
    "    else :\n",
    "      return 1"
   ]
  },
  {
   "cell_type": "code",
   "execution_count": 23,
   "id": "77678430",
   "metadata": {},
   "outputs": [],
   "source": [
    "def getYearURL(year):\n",
    "    base = f\"https://www.pro-football-reference.com\";\n",
    "    url = f\"{base}/years/{year}/index.htm\"\n",
    "    return url"
   ]
  },
  {
   "cell_type": "code",
   "execution_count": 24,
   "id": "8ca3af80",
   "metadata": {},
   "outputs": [],
   "source": [
    "async def getPlayoffTeamsArr(url):\n",
    "    base = f\"https://www.pro-football-reference.com\";\n",
    "    a_tags = (await findLosers(url)) + (await findWinner(url));\n",
    "    hrefs = [a[\"href\"]  for a in a_tags];\n",
    "    teams = [l for l in hrefs if \"/teams/\" in l];\n",
    "    finalTeams = [base + t for t in teams]\n",
    "    return finalTeams;"
   ]
  },
  {
   "cell_type": "code",
   "execution_count": 25,
   "id": "a8b2782c",
   "metadata": {},
   "outputs": [],
   "source": [
    "async def findWinner(url):\n",
    "    html = BeautifulSoup(await savePath(url, YR_DIR, nameYear,\"#div_playoff_results\"))\n",
    "    winner = html.find_all(\"td\",{'data-stat': 'winner'})[-1]\n",
    "    a_tag = [div.find_all(\"a\") for div in winner]\n",
    "    return sum(a_tag,[])"
   ]
  },
  {
   "cell_type": "code",
   "execution_count": 26,
   "id": "33528970",
   "metadata": {},
   "outputs": [],
   "source": [
    "async def findLosers(url):\n",
    "    html = BeautifulSoup(await savePath(url, YR_DIR, nameYear,\"#div_playoff_results\"))\n",
    "    losers = html.find_all(\"td\",{'data-stat': 'loser'})\n",
    "    html.find_all(\"td\",{'data-stat': 'winner'})[-1]\n",
    "    a_tags = [div.find_all(\"a\") for div in losers]\n",
    "    return sum(a_tags,[])"
   ]
  },
  {
   "cell_type": "code",
   "execution_count": null,
   "id": "c06be63b",
   "metadata": {},
   "outputs": [],
   "source": [
    "async def findResult(teamURL,year):\n",
    "    yearURL = getYearURL(year)\n",
    "    size = playoff_size(year)\n",
    "    if year > 2022 or year < 1970 :\n",
    "        return \"undefined\"\n",
    "    arr = await getPlayoffTeamsArr(yearURL)\n",
    "    index = arr.index(teamURL) if teamURL in arr else -1\n",
    "    return getResult2(index,size)"
   ]
  },
  {
   "cell_type": "code",
   "execution_count": null,
   "id": "b6474691",
   "metadata": {},
   "outputs": [],
   "source": [
    "def getYear(url):\n",
    "    yr = int(url[url.find(\".htm\")-4:url.find(\".htm\")]);\n",
    "    return yr;"
   ]
  },
  {
   "cell_type": "code",
   "execution_count": null,
   "id": "5cf36113",
   "metadata": {},
   "outputs": [],
   "source": [
    "def getAbbrv(url):\n",
    "    abbrv = url[url.index(\"teams/\")+6:url.index(\".htm\")-5];\n",
    "    return abbrv;"
   ]
  },
  {
   "cell_type": "code",
   "execution_count": null,
   "id": "1364d7b3",
   "metadata": {},
   "outputs": [],
   "source": [
    "def nameYear(link):\n",
    "    i = link.find(\"years\")+6;\n",
    "    return link[i:i+4] + \"league.htm\";"
   ]
  },
  {
   "cell_type": "code",
   "execution_count": null,
   "id": "a2dddbc9",
   "metadata": {},
   "outputs": [],
   "source": [
    "def nameTeam(link):\n",
    "    return getAbbrv(link)+str(getYear(link))+\".htm\";"
   ]
  },
  {
   "cell_type": "code",
   "execution_count": null,
   "id": "f931b806",
   "metadata": {},
   "outputs": [],
   "source": [
    "def getWins(string):\n",
    "    w = int(string[:string.find(\"-\")])\n",
    "    return w;"
   ]
  },
  {
   "cell_type": "code",
   "execution_count": null,
   "id": "90700912",
   "metadata": {},
   "outputs": [],
   "source": [
    "def getGames(string):\n",
    "    w = getWins(string)\n",
    "    rest = string[string.find(\"-\") + 1:]\n",
    "    l = getWins(rest)\n",
    "    t = int(rest[rest.find(\"-\") + 1:])\n",
    "    return w + l + t"
   ]
  },
  {
   "cell_type": "code",
   "execution_count": null,
   "id": "40dbd089",
   "metadata": {},
   "outputs": [],
   "source": [
    "# sus url manipulation to get the next year\n",
    "def getNext(url,diff):\n",
    "    base = url[:url.find(\".htm\")-5]\n",
    "    yr = getYear(url)+diff;\n",
    "    if((yr > 2023) or (yr < 1950)):\n",
    "        return \"\";\n",
    "    return f\"{base}/{yr}.htm\";"
   ]
  },
  {
   "cell_type": "code",
   "execution_count": null,
   "id": "3be35313",
   "metadata": {},
   "outputs": [],
   "source": [
    "def searchHTML(string,html,div):\n",
    "    arr = html.find_all(div)\n",
    "    for i,p in enumerate(arr):\n",
    "        if str(p).find(string)>0 :\n",
    "            return i\n",
    "    return -1"
   ]
  },
  {
   "cell_type": "code",
   "execution_count": null,
   "id": "d6b0ca4c",
   "metadata": {},
   "outputs": [],
   "source": [
    "async def searchMeta(url,div,string):\n",
    "    html = BeautifulSoup(await savePath(url,DATA_DIR,nameTeam,\"#meta\"))\n",
    "    index = searchHTML(string,html,div)\n",
    "    if index < 0 :\n",
    "        return \"undefined\"\n",
    "    return html.find_all(div)[index].getText();"
   ]
  },
  {
   "cell_type": "code",
   "execution_count": null,
   "id": "12cd0d67",
   "metadata": {},
   "outputs": [],
   "source": [
    "#get record from html\n",
    "async def getRec(link):\n",
    "    ret = await searchMeta(link,\"p\",\"Record\")\n",
    "    ret = ret[ret.find(\":\")+2:ret.find(\",\")]\n",
    "    return ret"
   ]
  },
  {
   "cell_type": "code",
   "execution_count": null,
   "id": "4099acac",
   "metadata": {},
   "outputs": [],
   "source": [
    "async def getFullName(url):\n",
    "    html = BeautifulSoup(await savePath(url,DATA_DIR,nameTeam,\"#meta\"))\n",
    "    ret = html.find_all(\"span\")[1].getText()\n",
    "    return ret"
   ]
  },
  {
   "cell_type": "code",
   "execution_count": null,
   "id": "1b56f1ac",
   "metadata": {},
   "outputs": [],
   "source": [
    "async def getDivision(url):\n",
    "    ret = await searchMeta(url,\"p\",\"Record\")\n",
    "    if ret == \"undefined\" :\n",
    "        return ret;\n",
    "    return ret[ret.find(\"\\t\")+1:ret.find(\"Div\")-1]"
   ]
  },
  {
   "cell_type": "code",
   "execution_count": null,
   "id": "0416b29b",
   "metadata": {},
   "outputs": [],
   "source": [
    "async def getConf(url):\n",
    "    ret = await getDivision(url)\n",
    "    if ret == \"undefined\" :\n",
    "        return ret;\n",
    "    return ret[0:3]"
   ]
  },
  {
   "cell_type": "code",
   "execution_count": null,
   "id": "c502c22f",
   "metadata": {},
   "outputs": [],
   "source": [
    "async def getCoach(url):\n",
    "    ret = await searchMeta(url,\"p\",\"Coach\")\n",
    "    if ret == \"undefined\" :\n",
    "        return ret;\n",
    "    return ret[ret.find(\"\\n\")+1:ret.find(\"(\")-1]"
   ]
  },
  {
   "cell_type": "code",
   "execution_count": null,
   "id": "4a1dc178",
   "metadata": {},
   "outputs": [],
   "source": [
    "# can be buggy for older seasons\n",
    "async def getSBOdds(url):\n",
    "    ret = await searchMeta(url,\"p\",\"Preseason Odds\")\n",
    "    if ret == \"undefined\" :\n",
    "        return ret;\n",
    "    endI = min(len(ret) - 1, ret.find(\";\"))\n",
    "    return ret[ret.find(\"Bowl\")+5:endI]"
   ]
  },
  {
   "cell_type": "code",
   "execution_count": null,
   "id": "f0f58d62",
   "metadata": {},
   "outputs": [],
   "source": [
    "await getSBOdds(\"https://www.pro-football-reference.com/teams/rai/1980.htm\")"
   ]
  },
  {
   "cell_type": "code",
   "execution_count": null,
   "id": "f90657d6",
   "metadata": {},
   "outputs": [],
   "source": [
    "# can be buggy for older seasons\n",
    "async def getOverUnder(url):\n",
    "    ret = await searchMeta(url,\"p\",\"O/U:\")\n",
    "    if ret == \"undefined\" :\n",
    "        return ret;\n",
    "    return float(ret[ret.find(\"O/U:\")+5:])"
   ]
  },
  {
   "cell_type": "code",
   "execution_count": null,
   "id": "93f8e8e9",
   "metadata": {},
   "outputs": [],
   "source": [
    "await searchMeta(\"https://www.pro-football-reference.com/teams/clt/1970.htm\",\"p\",\"Odds\")"
   ]
  },
  {
   "cell_type": "code",
   "execution_count": null,
   "id": "01168b71",
   "metadata": {},
   "outputs": [],
   "source": [
    "await getOverUnder(\"https://www.pro-football-reference.com/teams/kan/2021.htm\")"
   ]
  },
  {
   "cell_type": "code",
   "execution_count": null,
   "id": "4cfd1801",
   "metadata": {},
   "outputs": [],
   "source": [
    "async def getPFRank(url):\n",
    "    ret = await searchMeta(url,\"p\",\"Points For\")\n",
    "    if ret == \"undefined\" :\n",
    "        return ret;\n",
    "    return ret[ret.find(\")\")+2:ret.find(\"of\")-3]"
   ]
  },
  {
   "cell_type": "code",
   "execution_count": null,
   "id": "80e32c35",
   "metadata": {},
   "outputs": [],
   "source": [
    "async def getPARank(url):\n",
    "    ret = await searchMeta(url,\"p\",\"Points Against\")\n",
    "    if ret == \"undefined\" :\n",
    "        return ret;\n",
    "    return ret[ret.find(\")\")+2:ret.find(\"of\")-3]"
   ]
  },
  {
   "cell_type": "code",
   "execution_count": null,
   "id": "3dfcaa33",
   "metadata": {},
   "outputs": [],
   "source": [
    "async def getExpRec(url):\n",
    "    ret = await searchMeta(url,\"p\",\"Expected W-L\")\n",
    "    if ret == \"undefined\" :\n",
    "        return ret;\n",
    "    return ret[ret.find(\":\")+2:]"
   ]
  },
  {
   "cell_type": "code",
   "execution_count": null,
   "id": "33694dfd",
   "metadata": {},
   "outputs": [],
   "source": [
    "async def getSRS(url):\n",
    "    ret = await searchMeta(url,\"p\",\"#srs\")\n",
    "    if ret == \"undefined\" :\n",
    "        return ret;\n",
    "    return ret[ret.find(\":\")+2:ret.find(\"(\")-1]"
   ]
  },
  {
   "cell_type": "code",
   "execution_count": null,
   "id": "27ac9425",
   "metadata": {},
   "outputs": [],
   "source": [
    "async def getSOS(url):\n",
    "    ret = await searchMeta(url,\"p\",\"#sos\")\n",
    "    if ret == \"undefined\" :\n",
    "        return ret;\n",
    "    return ret[ret.find(\"SOS: \")+5:-1]"
   ]
  },
  {
   "cell_type": "code",
   "execution_count": null,
   "id": "a61fcd1d",
   "metadata": {},
   "outputs": [],
   "source": [
    "async def scrape_season(season):\n",
    "    url = getYearURL(season)\n",
    "    finalTeams = await getPlayoffTeamsArr(url)\n",
    "    return finalTeams"
   ]
  },
  {
   "cell_type": "code",
   "execution_count": null,
   "id": "f97d179c",
   "metadata": {},
   "outputs": [],
   "source": [
    "# season = 2022;\n",
    "# html = await scrape_season(season);\n",
    "# html;"
   ]
  },
  {
   "cell_type": "code",
   "execution_count": null,
   "id": "6df97c8c",
   "metadata": {},
   "outputs": [],
   "source": [
    "SEASONS = list(range(1970,2022));\n",
    "SEASONS = [await scrape_season(yr) for yr in SEASONS]"
   ]
  },
  {
   "cell_type": "code",
   "execution_count": null,
   "id": "c5841caa",
   "metadata": {},
   "outputs": [],
   "source": [
    "# for arr in SEASONS:\n",
    "#     for team in arr:\n",
    "#         for i in list(range(-1,2)):\n",
    "#             await getRec(getNext(team,i))"
   ]
  },
  {
   "cell_type": "code",
   "execution_count": 1,
   "id": "3666e7f1",
   "metadata": {},
   "outputs": [
    {
     "ename": "NameError",
     "evalue": "name 'SEASONS' is not defined",
     "output_type": "error",
     "traceback": [
      "\u001b[0;31m---------------------------------------------------------------------------\u001b[0m",
      "\u001b[0;31mNameError\u001b[0m                                 Traceback (most recent call last)",
      "Cell \u001b[0;32mIn[1], line 1\u001b[0m\n\u001b[0;32m----> 1\u001b[0m \u001b[43mSEASONS\u001b[49m\n",
      "\u001b[0;31mNameError\u001b[0m: name 'SEASONS' is not defined"
     ]
    }
   ],
   "source": [
    "SEASONS"
   ]
  },
  {
   "cell_type": "code",
   "execution_count": 182,
   "id": "515d967c",
   "metadata": {},
   "outputs": [],
   "source": [
    "simple = [];\n",
    "for arrays in SEASONS:\n",
    "    for team in arrays:\n",
    "        year = getYear(team)\n",
    "        odds = await getSBOdds(team)\n",
    "        wins = await getOverUnder(team)\n",
    "        simple.append([year,\n",
    "                         await getFullName(team),\n",
    "#                          await findResult(getNext(team,-1), year-1),\n",
    "                         await findResult(team, year),\n",
    "                         await findResult(getNext(team,+1), year+1),\n",
    "#                          getWins(await getRec(getNext(team,-1))),\n",
    "                         getWins(await getRec(team)),\n",
    "                         getWins(await getRec(getNext(team,+1)))])"
   ]
  },
  {
   "cell_type": "code",
   "execution_count": 185,
   "id": "87697ca6",
   "metadata": {},
   "outputs": [
    {
     "data": {
      "text/html": [
       "<div>\n",
       "<style scoped>\n",
       "    .dataframe tbody tr th:only-of-type {\n",
       "        vertical-align: middle;\n",
       "    }\n",
       "\n",
       "    .dataframe tbody tr th {\n",
       "        vertical-align: top;\n",
       "    }\n",
       "\n",
       "    .dataframe thead th {\n",
       "        text-align: right;\n",
       "    }\n",
       "</style>\n",
       "<table border=\"1\" class=\"dataframe\">\n",
       "  <thead>\n",
       "    <tr style=\"text-align: right;\">\n",
       "      <th></th>\n",
       "      <th>Year</th>\n",
       "      <th>Team</th>\n",
       "      <th>Round</th>\n",
       "      <th>Next_Round</th>\n",
       "      <th>W</th>\n",
       "      <th>Next_Wins</th>\n",
       "    </tr>\n",
       "  </thead>\n",
       "  <tbody>\n",
       "    <tr>\n",
       "      <th>0</th>\n",
       "      <td>1970</td>\n",
       "      <td>Cincinnati Bengals</td>\n",
       "      <td>2</td>\n",
       "      <td>0</td>\n",
       "      <td>8</td>\n",
       "      <td>4</td>\n",
       "    </tr>\n",
       "    <tr>\n",
       "      <th>1</th>\n",
       "      <td>1970</td>\n",
       "      <td>Detroit Lions</td>\n",
       "      <td>2</td>\n",
       "      <td>0</td>\n",
       "      <td>10</td>\n",
       "      <td>7</td>\n",
       "    </tr>\n",
       "    <tr>\n",
       "      <th>2</th>\n",
       "      <td>1970</td>\n",
       "      <td>Miami Dolphins</td>\n",
       "      <td>2</td>\n",
       "      <td>4</td>\n",
       "      <td>10</td>\n",
       "      <td>10</td>\n",
       "    </tr>\n",
       "    <tr>\n",
       "      <th>3</th>\n",
       "      <td>1970</td>\n",
       "      <td>Minnesota Vikings</td>\n",
       "      <td>2</td>\n",
       "      <td>2</td>\n",
       "      <td>12</td>\n",
       "      <td>11</td>\n",
       "    </tr>\n",
       "    <tr>\n",
       "      <th>4</th>\n",
       "      <td>1970</td>\n",
       "      <td>Oakland Raiders</td>\n",
       "      <td>3</td>\n",
       "      <td>0</td>\n",
       "      <td>8</td>\n",
       "      <td>8</td>\n",
       "    </tr>\n",
       "    <tr>\n",
       "      <th>...</th>\n",
       "      <td>...</td>\n",
       "      <td>...</td>\n",
       "      <td>...</td>\n",
       "      <td>...</td>\n",
       "      <td>...</td>\n",
       "      <td>...</td>\n",
       "    </tr>\n",
       "    <tr>\n",
       "      <th>573</th>\n",
       "      <td>2021</td>\n",
       "      <td>Tampa Bay Buccaneers</td>\n",
       "      <td>2</td>\n",
       "      <td>1</td>\n",
       "      <td>13</td>\n",
       "      <td>8</td>\n",
       "    </tr>\n",
       "    <tr>\n",
       "      <th>574</th>\n",
       "      <td>2021</td>\n",
       "      <td>Kansas City Chiefs</td>\n",
       "      <td>3</td>\n",
       "      <td>5</td>\n",
       "      <td>12</td>\n",
       "      <td>14</td>\n",
       "    </tr>\n",
       "    <tr>\n",
       "      <th>575</th>\n",
       "      <td>2021</td>\n",
       "      <td>San Francisco 49ers</td>\n",
       "      <td>3</td>\n",
       "      <td>3</td>\n",
       "      <td>10</td>\n",
       "      <td>13</td>\n",
       "    </tr>\n",
       "    <tr>\n",
       "      <th>576</th>\n",
       "      <td>2021</td>\n",
       "      <td>Cincinnati Bengals</td>\n",
       "      <td>4</td>\n",
       "      <td>3</td>\n",
       "      <td>10</td>\n",
       "      <td>12</td>\n",
       "    </tr>\n",
       "    <tr>\n",
       "      <th>577</th>\n",
       "      <td>2021</td>\n",
       "      <td>Los Angeles Rams</td>\n",
       "      <td>5</td>\n",
       "      <td>0</td>\n",
       "      <td>12</td>\n",
       "      <td>5</td>\n",
       "    </tr>\n",
       "  </tbody>\n",
       "</table>\n",
       "<p>578 rows × 6 columns</p>\n",
       "</div>"
      ],
      "text/plain": [
       "     Year                  Team  Round  Next_Round   W  Next_Wins\n",
       "0    1970    Cincinnati Bengals      2           0   8          4\n",
       "1    1970         Detroit Lions      2           0  10          7\n",
       "2    1970        Miami Dolphins      2           4  10         10\n",
       "3    1970     Minnesota Vikings      2           2  12         11\n",
       "4    1970       Oakland Raiders      3           0   8          8\n",
       "..    ...                   ...    ...         ...  ..        ...\n",
       "573  2021  Tampa Bay Buccaneers      2           1  13          8\n",
       "574  2021    Kansas City Chiefs      3           5  12         14\n",
       "575  2021   San Francisco 49ers      3           3  10         13\n",
       "576  2021    Cincinnati Bengals      4           3  10         12\n",
       "577  2021      Los Angeles Rams      5           0  12          5\n",
       "\n",
       "[578 rows x 6 columns]"
      ]
     },
     "execution_count": 185,
     "metadata": {},
     "output_type": "execute_result"
    }
   ],
   "source": [
    "sf = pd.DataFrame(simple)\n",
    "sf.columns = [\"Year\", \"Team\",\"Round\",\"Next_Round\",\"W\",\"Next_Wins\"]\n",
    "# sf.columns = [\"Year\", \"Team\",\"Prev_Round\",\"Round\",\"Next_Round\",\"Prev_Wins\",\"W\",\"Next_Wins\"]\n",
    "sf"
   ]
  },
  {
   "cell_type": "code",
   "execution_count": 107,
   "id": "6a6bd486",
   "metadata": {},
   "outputs": [],
   "source": [
    "df = pd.DataFrame(allTeams)"
   ]
  },
  {
   "cell_type": "code",
   "execution_count": 49,
   "id": "8cc2e93a",
   "metadata": {},
   "outputs": [],
   "source": [
    "from pathlib import Path\n",
    "root_path = \"~/Desktop\"\n",
    "output_path = Path(root_path, 'output4.csv')\n",
    "# output_file_full_path = (\"/\",\"output\")\n",
    "testDF.to_csv(output_path, index = None)"
   ]
  }
 ],
 "metadata": {
  "kernelspec": {
   "display_name": "Python 3 (ipykernel)",
   "language": "python",
   "name": "python3"
  },
  "language_info": {
   "codemirror_mode": {
    "name": "ipython",
    "version": 3
   },
   "file_extension": ".py",
   "mimetype": "text/x-python",
   "name": "python",
   "nbconvert_exporter": "python",
   "pygments_lexer": "ipython3",
   "version": "3.10.9"
  }
 },
 "nbformat": 4,
 "nbformat_minor": 5
}
