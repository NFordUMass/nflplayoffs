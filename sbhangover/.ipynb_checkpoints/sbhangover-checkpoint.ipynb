{
 "cells": [
  {
   "cell_type": "code",
   "execution_count": 127,
   "id": "bd715284",
   "metadata": {},
   "outputs": [],
   "source": [
    "import os\n",
    "from bs4 import BeautifulSoup\n",
    "from playwright.async_api import async_playwright, TimeoutError as PlaywrightTimeout\n",
    "import time\n",
    "import re\n",
    "import pandas as pd\n",
    "import numpy as np\n",
    "from datetime import datetime"
   ]
  },
  {
   "cell_type": "code",
   "execution_count": 128,
   "id": "0cb65021",
   "metadata": {},
   "outputs": [],
   "source": [
    "# !pip playwright install-deps firefox"
   ]
  },
  {
   "cell_type": "code",
   "execution_count": 129,
   "id": "eb6c7e3a",
   "metadata": {},
   "outputs": [
    {
     "name": "stdout",
     "output_type": "stream",
     "text": [
      "[(4, 1966), (4, 1967), (4, 1968), (4, 1969), (8, 1970), (8, 1971), (8, 1972), (8, 1973), (8, 1974), (8, 1975), (8, 1976), (8, 1977), (10, 1978), (10, 1979), (10, 1980), (10, 1981), (10, 1982), (10, 1983), (10, 1984), (10, 1985), (10, 1986), (10, 1987), (10, 1988), (10, 1989), (12, 1990), (12, 1991), (12, 1992), (12, 1993), (12, 1994), (12, 1995), (12, 1996), (12, 1997), (12, 1998), (12, 1999), (12, 2000), (12, 2001), (12, 2002), (12, 2003), (12, 2004), (12, 2005), (12, 2006), (12, 2007), (12, 2008), (12, 2009), (12, 2010), (12, 2011), (12, 2012), (12, 2013), (12, 2014), (12, 2015), (12, 2016), (12, 2017), (12, 2018), (12, 2019), (14, 2020), (14, 2021), (14, 2022), (14, 2023)]\n"
     ]
    }
   ],
   "source": [
    "DATA_DIR = \"../sbpgs\";\n",
    "YR_DIR = \"../leagueYrs\";\n",
    "PLAYOFF_SIZES = [4] * 4 + [8] * 8 + [10] * 12 + [12] * 30 + [14] * 5;\n",
    "year_sizes = list(zip(PLAYOFF_SIZES,list(range(1966,2024))))\n",
    "print(year_sizes)"
   ]
  },
  {
   "cell_type": "code",
   "execution_count": 130,
   "id": "76ac0268",
   "metadata": {},
   "outputs": [],
   "source": [
    "def playoff_size(year):\n",
    "    return PLAYOFF_SIZES[year - 1966]"
   ]
  },
  {
   "cell_type": "code",
   "execution_count": 131,
   "id": "e315162b",
   "metadata": {},
   "outputs": [],
   "source": [
    "# DataQuest function\n",
    "# add sleep to asking again\n",
    "# selector defines the section of html you're looking at\n",
    "async def get_html(url,selector,sleep =5, retries =3):\n",
    "    html = None\n",
    "    for i in range(1, retries+1):\n",
    "        time.sleep(sleep *i)\n",
    "        \n",
    "        try:\n",
    "            async with async_playwright() as p:\n",
    "#                 chromium is open sourced version of chrome\n",
    "                browser = await p.firefox.launch()\n",
    "                page = await browser.new_page()\n",
    "                await page.goto(url)\n",
    "                print(await page.title())\n",
    "                html = await page.inner_html(selector)\n",
    "        except PlaywrightTimeout:\n",
    "            print(f\"Timeout error on {url}\")\n",
    "            continue\n",
    "        else:\n",
    "            break\n",
    "    return html"
   ]
  },
  {
   "cell_type": "code",
   "execution_count": 132,
   "id": "05d25bc5",
   "metadata": {},
   "outputs": [],
   "source": [
    "# sus function, don't touch right now\n",
    "async def savePath(link,directory,name,tag):\n",
    "    save_path = os.path.join(directory, name(link))\n",
    "    if not(os.path.exists(save_path)):\n",
    "        html = await get_html(link, tag);\n",
    "        with open(save_path, \"w+\") as f:\n",
    "            f.write(html)\n",
    "    else :\n",
    "        with open(save_path, 'r') as f:\n",
    "            html = f.read()\n",
    "    return html"
   ]
  },
  {
   "cell_type": "code",
   "execution_count": 133,
   "id": "6381f43e",
   "metadata": {},
   "outputs": [],
   "source": [
    "def getResult(index):\n",
    "    if index < 0 :\n",
    "        return 0\n",
    "    elif index == 0 :\n",
    "      return 5\n",
    "    elif index <= 1:\n",
    "      return 4\n",
    "    elif index <= 3:\n",
    "      return 3\n",
    "    elif index <= 7:\n",
    "      return 2\n",
    "    else :\n",
    "      return 1"
   ]
  },
  {
   "cell_type": "code",
   "execution_count": 134,
   "id": "ecdefc17",
   "metadata": {},
   "outputs": [],
   "source": [
    "def getResult2(index,length):\n",
    "    if index < 0 :\n",
    "        return 0\n",
    "    elif index == length-1 :\n",
    "      return 5\n",
    "    elif index == length-2 :\n",
    "      return 4\n",
    "    elif index >= length-4 :\n",
    "      return 3\n",
    "    elif index >= length-8 :\n",
    "      return 2\n",
    "    else :\n",
    "      return 1"
   ]
  },
  {
   "cell_type": "code",
   "execution_count": 135,
   "id": "77678430",
   "metadata": {},
   "outputs": [],
   "source": [
    "def getYearURL(year):\n",
    "    base = f\"https://www.pro-football-reference.com\";\n",
    "    url = f\"{base}/years/{year}/index.htm\"\n",
    "    return url"
   ]
  },
  {
   "cell_type": "code",
   "execution_count": 136,
   "id": "f69e4fcd",
   "metadata": {},
   "outputs": [],
   "source": [
    "def twoDigitYear(year):\n",
    "    return str(year)[-2:]"
   ]
  },
  {
   "cell_type": "code",
   "execution_count": 137,
   "id": "8ca3af80",
   "metadata": {},
   "outputs": [],
   "source": [
    "async def getPlayoffTeamsArr(url):\n",
    "    base = f\"https://www.pro-football-reference.com\";\n",
    "    a_tags = (await findLosers(url)) + (await findWinner(url));\n",
    "    hrefs = [a[\"href\"]  for a in a_tags];\n",
    "    teams = [l for l in hrefs if \"/teams/\" in l];\n",
    "    finalTeams = [base + t for t in teams]\n",
    "    return finalTeams;"
   ]
  },
  {
   "cell_type": "code",
   "execution_count": 138,
   "id": "a8b2782c",
   "metadata": {},
   "outputs": [],
   "source": [
    "async def findWinner(url):\n",
    "    html = BeautifulSoup(await savePath(url, YR_DIR, nameYear,\"#div_playoff_results\"))\n",
    "    winner = html.find_all(\"td\",{'data-stat': 'winner'})[-1]\n",
    "    a_tag = [div.find_all(\"a\") for div in winner]\n",
    "    return sum(a_tag,[])"
   ]
  },
  {
   "cell_type": "code",
   "execution_count": 139,
   "id": "33528970",
   "metadata": {},
   "outputs": [],
   "source": [
    "async def findLosers(url):\n",
    "    html = BeautifulSoup(await savePath(url, YR_DIR, nameYear,\"#div_playoff_results\"))\n",
    "    losers = html.find_all(\"td\",{'data-stat': 'loser'})\n",
    "    html.find_all(\"td\",{'data-stat': 'winner'})[-1]\n",
    "    a_tags = [div.find_all(\"a\") for div in losers]\n",
    "    return sum(a_tags,[])"
   ]
  },
  {
   "cell_type": "code",
   "execution_count": 140,
   "id": "c06be63b",
   "metadata": {},
   "outputs": [],
   "source": [
    "async def findResult(teamURL,year):\n",
    "    yearURL = getYearURL(year)\n",
    "    size = playoff_size(year)\n",
    "    if year > 2022 or year < 1970 :\n",
    "        return \"undefined\"\n",
    "    arr = await getPlayoffTeamsArr(yearURL)\n",
    "    index = arr.index(teamURL) if teamURL in arr else -1\n",
    "    return getResult2(index,size)"
   ]
  },
  {
   "cell_type": "code",
   "execution_count": 141,
   "id": "b6474691",
   "metadata": {},
   "outputs": [],
   "source": [
    "def getYear(url):\n",
    "    yr = int(url[url.find(\".htm\")-4:url.find(\".htm\")]);\n",
    "    return yr;"
   ]
  },
  {
   "cell_type": "code",
   "execution_count": 142,
   "id": "5cf36113",
   "metadata": {},
   "outputs": [],
   "source": [
    "def getAbbrv(url):\n",
    "    abbrv = url[url.index(\"teams/\")+6:url.index(\".htm\")-5];\n",
    "    return abbrv;"
   ]
  },
  {
   "cell_type": "code",
   "execution_count": 143,
   "id": "1364d7b3",
   "metadata": {},
   "outputs": [],
   "source": [
    "def nameYear(link):\n",
    "    i = link.find(\"years\")+6;\n",
    "    return link[i:i+4] + \"league.htm\";"
   ]
  },
  {
   "cell_type": "code",
   "execution_count": 144,
   "id": "a2dddbc9",
   "metadata": {},
   "outputs": [],
   "source": [
    "def nameTeam(link):\n",
    "    return getAbbrv(link)+str(getYear(link))+\".htm\";"
   ]
  },
  {
   "cell_type": "code",
   "execution_count": 145,
   "id": "f931b806",
   "metadata": {},
   "outputs": [],
   "source": [
    "def getWins(string):\n",
    "    w = int(string[:string.find(\"-\")])\n",
    "    return w;"
   ]
  },
  {
   "cell_type": "code",
   "execution_count": 146,
   "id": "90700912",
   "metadata": {},
   "outputs": [],
   "source": [
    "def getGames(string):\n",
    "    w = getWins(string)\n",
    "    rest = string[string.find(\"-\") + 1:]\n",
    "    l = getWins(rest)\n",
    "    t = int(rest[rest.find(\"-\") + 1:])\n",
    "    return w + l + t"
   ]
  },
  {
   "cell_type": "code",
   "execution_count": 147,
   "id": "40dbd089",
   "metadata": {},
   "outputs": [],
   "source": [
    "# sus url manipulation to get the next year\n",
    "def getNext(url,diff):\n",
    "    base = url[:url.find(\".htm\")-5]\n",
    "    yr = getYear(url)+diff;\n",
    "    if((yr > 2023) or (yr < 1950)):\n",
    "        return \"\";\n",
    "    return f\"{base}/{yr}.htm\";"
   ]
  },
  {
   "cell_type": "code",
   "execution_count": 148,
   "id": "b9c9a7b4",
   "metadata": {},
   "outputs": [
    {
     "data": {
      "text/plain": [
       "[<a href=\"/teams/nwe/2021.htm\">New England Patriots</a>,\n",
       " <a href=\"/teams/rai/2021.htm\">Las Vegas Raiders</a>,\n",
       " <a href=\"/teams/pit/2021.htm\">Pittsburgh Steelers</a>,\n",
       " <a href=\"/teams/dal/2021.htm\">Dallas Cowboys</a>,\n",
       " <a href=\"/teams/phi/2021.htm\">Philadelphia Eagles</a>,\n",
       " <a href=\"/teams/crd/2021.htm\">Arizona Cardinals</a>,\n",
       " <a href=\"/teams/oti/2021.htm\">Tennessee Titans</a>,\n",
       " <a href=\"/teams/gnb/2021.htm\">Green Bay Packers</a>,\n",
       " <a href=\"/teams/buf/2021.htm\">Buffalo Bills</a>,\n",
       " <a href=\"/teams/tam/2021.htm\">Tampa Bay Buccaneers</a>,\n",
       " <a href=\"/teams/kan/2021.htm\">Kansas City Chiefs</a>,\n",
       " <a href=\"/teams/sfo/2021.htm\">San Francisco 49ers</a>,\n",
       " <a href=\"/teams/cin/2021.htm\">Cincinnati Bengals</a>]"
      ]
     },
     "execution_count": 148,
     "metadata": {},
     "output_type": "execute_result"
    }
   ],
   "source": [
    "url = \"https://www.pro-football-reference.com/years/2021/index.htm\"\n",
    "html = BeautifulSoup(await savePath(url, YR_DIR, nameYear,\"#div_playoff_results\"))\n",
    "losers = html.find_all(\"td\",{'data-stat': 'loser'})\n",
    "html.find_all(\"td\",{'data-stat': 'winner'})[-1]\n",
    "# all_tags = losers.append(html.find_all(\"td\",{'data-stat': 'winner'})[-1])\n",
    "a_tags = [div.find_all(\"a\") for div in losers]\n",
    "sum(a_tags,[])"
   ]
  },
  {
   "cell_type": "code",
   "execution_count": 149,
   "id": "3be35313",
   "metadata": {},
   "outputs": [],
   "source": [
    "def searchHTML(string,html,div):\n",
    "    arr = html.find_all(div)\n",
    "    for i,p in enumerate(arr):\n",
    "        if str(p).find(string)>0 :\n",
    "            return i\n",
    "    return -1"
   ]
  },
  {
   "cell_type": "code",
   "execution_count": 150,
   "id": "d6b0ca4c",
   "metadata": {},
   "outputs": [],
   "source": [
    "async def searchMeta(url,div,string):\n",
    "    html = BeautifulSoup(await savePath(url,DATA_DIR,nameTeam,\"#meta\"))\n",
    "    index = searchHTML(string,html,div)\n",
    "    if index < 0 :\n",
    "        return \"undefined\"\n",
    "    return html.find_all(div)[index].getText();"
   ]
  },
  {
   "cell_type": "code",
   "execution_count": 151,
   "id": "12cd0d67",
   "metadata": {},
   "outputs": [],
   "source": [
    "#get record from html\n",
    "async def getRec(link):\n",
    "    ret = await searchMeta(link,\"p\",\"Record\")\n",
    "    ret = ret[ret.find(\":\")+2:ret.find(\",\")]\n",
    "    return ret"
   ]
  },
  {
   "cell_type": "code",
   "execution_count": 152,
   "id": "4099acac",
   "metadata": {},
   "outputs": [],
   "source": [
    "async def getFullName(url):\n",
    "    html = BeautifulSoup(await savePath(url,DATA_DIR,nameTeam,\"#meta\"))\n",
    "    ret = html.find_all(\"span\")[1].getText()\n",
    "    return ret"
   ]
  },
  {
   "cell_type": "code",
   "execution_count": 153,
   "id": "f30cca6c",
   "metadata": {},
   "outputs": [],
   "source": [
    "def getNickname(year, name):\n",
    "    return \"'\" + twoDigitYear(year) + \" \" + name.split()[-1]"
   ]
  },
  {
   "cell_type": "code",
   "execution_count": 154,
   "id": "1b56f1ac",
   "metadata": {},
   "outputs": [],
   "source": [
    "async def getDivision(url):\n",
    "    ret = await searchMeta(url,\"p\",\"Record\")\n",
    "    if ret == \"undefined\" :\n",
    "        return ret;\n",
    "    return ret[ret.find(\"\\t\")+1:ret.find(\"Div\")-1]"
   ]
  },
  {
   "cell_type": "code",
   "execution_count": 155,
   "id": "0416b29b",
   "metadata": {},
   "outputs": [],
   "source": [
    "async def getConf(url):\n",
    "    ret = await getDivision(url)\n",
    "    if ret == \"undefined\" :\n",
    "        return ret;\n",
    "    return ret[0:3]"
   ]
  },
  {
   "cell_type": "code",
   "execution_count": 156,
   "id": "c502c22f",
   "metadata": {},
   "outputs": [],
   "source": [
    "async def getCoach(url):\n",
    "    ret = await searchMeta(url,\"p\",\"Coach\")\n",
    "    if ret == \"undefined\" :\n",
    "        return ret;\n",
    "    return ret[ret.find(\"\\n\")+1:ret.find(\"(\")-1]"
   ]
  },
  {
   "cell_type": "code",
   "execution_count": 157,
   "id": "4a1dc178",
   "metadata": {},
   "outputs": [],
   "source": [
    "# can be buggy for older seasons\n",
    "async def getSBOdds(url):\n",
    "    ret = await searchMeta(url,\"p\",\"Preseason Odds\")\n",
    "    if ret == \"undefined\" :\n",
    "        return ret;\n",
    "    endI = min(len(ret) - 1, ret.find(\";\"))\n",
    "    return ret[ret.find(\"Bowl\")+5:endI]"
   ]
  },
  {
   "cell_type": "code",
   "execution_count": 158,
   "id": "f0f58d62",
   "metadata": {},
   "outputs": [
    {
     "data": {
      "text/plain": [
       "'+350'"
      ]
     },
     "execution_count": 158,
     "metadata": {},
     "output_type": "execute_result"
    }
   ],
   "source": [
    "await getSBOdds(\"https://www.pro-football-reference.com/teams/rai/1980.htm\")"
   ]
  },
  {
   "cell_type": "code",
   "execution_count": 159,
   "id": "f90657d6",
   "metadata": {},
   "outputs": [],
   "source": [
    "# can be buggy for older seasons\n",
    "async def getOverUnder(url):\n",
    "    ret = await searchMeta(url,\"p\",\"O/U:\")\n",
    "    if ret == \"undefined\" :\n",
    "        return ret;\n",
    "    return float(ret[ret.find(\"O/U:\")+5:])"
   ]
  },
  {
   "cell_type": "code",
   "execution_count": 160,
   "id": "93f8e8e9",
   "metadata": {},
   "outputs": [
    {
     "data": {
      "text/plain": [
       "'undefined'"
      ]
     },
     "execution_count": 160,
     "metadata": {},
     "output_type": "execute_result"
    }
   ],
   "source": [
    "await searchMeta(\"https://www.pro-football-reference.com/teams/clt/1970.htm\",\"p\",\"Odds\")"
   ]
  },
  {
   "cell_type": "code",
   "execution_count": 161,
   "id": "01168b71",
   "metadata": {},
   "outputs": [
    {
     "data": {
      "text/plain": [
       "12.5"
      ]
     },
     "execution_count": 161,
     "metadata": {},
     "output_type": "execute_result"
    }
   ],
   "source": [
    "await getOverUnder(\"https://www.pro-football-reference.com/teams/kan/2021.htm\")"
   ]
  },
  {
   "cell_type": "code",
   "execution_count": 162,
   "id": "4cfd1801",
   "metadata": {},
   "outputs": [],
   "source": [
    "async def getPFRank(url):\n",
    "    ret = await searchMeta(url,\"p\",\"Points For\")\n",
    "    if ret == \"undefined\" :\n",
    "        return ret;\n",
    "    return ret[ret.find(\")\")+2:ret.find(\"of\")-3]"
   ]
  },
  {
   "cell_type": "code",
   "execution_count": 163,
   "id": "80e32c35",
   "metadata": {},
   "outputs": [],
   "source": [
    "async def getPARank(url):\n",
    "    ret = await searchMeta(url,\"p\",\"Points Against\")\n",
    "    if ret == \"undefined\" :\n",
    "        return ret;\n",
    "    return ret[ret.find(\")\")+2:ret.find(\"of\")-3]"
   ]
  },
  {
   "cell_type": "code",
   "execution_count": 164,
   "id": "3dfcaa33",
   "metadata": {},
   "outputs": [],
   "source": [
    "async def getExpRec(url):\n",
    "    ret = await searchMeta(url,\"p\",\"Expected W-L\")\n",
    "    if ret == \"undefined\" :\n",
    "        return ret;\n",
    "    return ret[ret.find(\":\")+2:]"
   ]
  },
  {
   "cell_type": "code",
   "execution_count": 165,
   "id": "33694dfd",
   "metadata": {},
   "outputs": [],
   "source": [
    "async def getSRS(url):\n",
    "    ret = await searchMeta(url,\"p\",\"#srs\")\n",
    "    if ret == \"undefined\" :\n",
    "        return ret;\n",
    "    return ret[ret.find(\":\")+2:ret.find(\"(\")-1]"
   ]
  },
  {
   "cell_type": "code",
   "execution_count": 166,
   "id": "27ac9425",
   "metadata": {},
   "outputs": [],
   "source": [
    "async def getSOS(url):\n",
    "    ret = await searchMeta(url,\"p\",\"#sos\")\n",
    "    if ret == \"undefined\" :\n",
    "        return ret;\n",
    "    return ret[ret.find(\"SOS: \")+5:-1]"
   ]
  },
  {
   "cell_type": "code",
   "execution_count": 167,
   "id": "a61fcd1d",
   "metadata": {},
   "outputs": [],
   "source": [
    "async def scrape_season(season):\n",
    "    url = getYearURL(season)\n",
    "    finalTeams = await getPlayoffTeamsArr(url)\n",
    "    return finalTeams"
   ]
  },
  {
   "cell_type": "code",
   "execution_count": 168,
   "id": "f97d179c",
   "metadata": {},
   "outputs": [],
   "source": [
    "# season = 2022;\n",
    "# html = await scrape_season(season);\n",
    "# html;"
   ]
  },
  {
   "cell_type": "code",
   "execution_count": 173,
   "id": "6df97c8c",
   "metadata": {},
   "outputs": [],
   "source": [
    "SEASONS = list(range(1970,2023));\n",
    "SEASONS = [await scrape_season(yr) for yr in SEASONS];"
   ]
  },
  {
   "cell_type": "markdown",
   "id": "10678f93",
   "metadata": {},
   "source": [
    "### Playoff Round Heatmap"
   ]
  },
  {
   "cell_type": "code",
   "execution_count": 178,
   "id": "7d0587cc",
   "metadata": {},
   "outputs": [],
   "source": [
    "simple = [];\n",
    "for teamArr in SEASONS:\n",
    "    for team in teamArr:\n",
    "        full = await getFullName(team)\n",
    "        year = getYear(team)\n",
    "        simple.append([year,\n",
    "                        getNickname(year,full),\n",
    "                        await findResult(getNext(team,-1),year -1),\n",
    "                        await findResult(team,year)])"
   ]
  },
  {
   "cell_type": "code",
   "execution_count": null,
   "id": "2ea6855b",
   "metadata": {},
   "outputs": [],
   "source": []
  },
  {
   "cell_type": "code",
   "execution_count": 175,
   "id": "12ea9bdd",
   "metadata": {},
   "outputs": [
    {
     "ename": "NameError",
     "evalue": "name 'sf' is not defined",
     "output_type": "error",
     "traceback": [
      "\u001b[0;31m---------------------------------------------------------------------------\u001b[0m",
      "\u001b[0;31mNameError\u001b[0m                                 Traceback (most recent call last)",
      "Cell \u001b[0;32mIn[175], line 5\u001b[0m\n\u001b[1;32m      3\u001b[0m \u001b[38;5;66;03m# for teams that made the playoffs\u001b[39;00m\n\u001b[1;32m      4\u001b[0m \u001b[38;5;28;01mfor\u001b[39;00m val \u001b[38;5;129;01min\u001b[39;00m \u001b[38;5;28mrange\u001b[39m(\u001b[38;5;241m0\u001b[39m, \u001b[38;5;241m6\u001b[39m):\n\u001b[0;32m----> 5\u001b[0m     df \u001b[38;5;241m=\u001b[39m \u001b[43msf\u001b[49m[sf[\u001b[38;5;124m'\u001b[39m\u001b[38;5;124mRound\u001b[39m\u001b[38;5;124m'\u001b[39m] \u001b[38;5;241m==\u001b[39m val]\n\u001b[1;32m      6\u001b[0m     percents \u001b[38;5;241m=\u001b[39m df[\u001b[38;5;124m'\u001b[39m\u001b[38;5;124mNext_Round\u001b[39m\u001b[38;5;124m'\u001b[39m]\u001b[38;5;241m.\u001b[39mvalue_counts(normalize\u001b[38;5;241m=\u001b[39m\u001b[38;5;28;01mTrue\u001b[39;00m)\u001b[38;5;241m.\u001b[39msort_index()\u001b[38;5;241m.\u001b[39mtolist()\n\u001b[1;32m      7\u001b[0m     start\u001b[38;5;241m.\u001b[39mappend(percents)\n",
      "\u001b[0;31mNameError\u001b[0m: name 'sf' is not defined"
     ]
    }
   ],
   "source": [
    "start = [];\n",
    "\n",
    "# for teams that made the playoffs\n",
    "for val in range(0, 6):\n",
    "    df = sf[sf['Round'] == val]\n",
    "    percents = df['Next_Round'].value_counts(normalize=True).sort_index().tolist()\n",
    "    start.append(percents)\n",
    "\n",
    "# Print the collected percentage breakdowns as a list of lists\n",
    "start = [percent for percent in start if percent]\n",
    "rounded = [[round(num, 3) for num in sublist] for sublist in start]\n",
    "mtrx = np.array(rounded)\n",
    "df = pd.DataFrame(mtrx)\n",
    "rows = ['Lost WC', 'Lost Div','Lost Title', 'Lost SB','Won SB']\n",
    "cols = ['Missed', 'Lost WC', 'Lost Div','Lost Title', 'Lost SB','Won SB']\n",
    "df.index = rows;\n",
    "df.columns = cols;\n",
    "print(df)\n",
    "df.to_csv('playoffhangover.csv', index=True, header=True)\n",
    "# print(rounded)"
   ]
  },
  {
   "cell_type": "code",
   "execution_count": 45,
   "id": "4607fe15",
   "metadata": {},
   "outputs": [
    {
     "name": "stdout",
     "output_type": "stream",
     "text": [
      "[0.3682170542635659, 0.37209302325581395, 0.1434108527131783, 0.07364341085271318, 0.04263565891472868]\n"
     ]
    }
   ],
   "source": [
    "df = sf[sf['Prev_Round'] == 0]\n",
    "percents = df['Round'].value_counts(normalize=True).sort_index().tolist()\n",
    "print(percents)"
   ]
  },
  {
   "cell_type": "code",
   "execution_count": 49,
   "id": "8cc2e93a",
   "metadata": {},
   "outputs": [],
   "source": [
    "from pathlib import Path\n",
    "root_path = \"~/Desktop\"\n",
    "output_path = Path(root_path, 'output4.csv')\n",
    "# output_file_full_path = (\"/\",\"output\")\n",
    "testDF.to_csv(output_path, index = None)"
   ]
  }
 ],
 "metadata": {
  "kernelspec": {
   "display_name": "Python 3 (ipykernel)",
   "language": "python",
   "name": "python3"
  },
  "language_info": {
   "codemirror_mode": {
    "name": "ipython",
    "version": 3
   },
   "file_extension": ".py",
   "mimetype": "text/x-python",
   "name": "python",
   "nbconvert_exporter": "python",
   "pygments_lexer": "ipython3",
   "version": "3.10.9"
  }
 },
 "nbformat": 4,
 "nbformat_minor": 5
}
